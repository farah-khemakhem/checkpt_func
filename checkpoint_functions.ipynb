{
 "cells": [
  {
   "cell_type": "markdown",
   "metadata": {},
   "source": [
    "Question 1\n",
    "\n",
    "Write a Python function to find the Max of three numbers."
   ]
  },
  {
   "cell_type": "code",
   "execution_count": 6,
   "metadata": {},
   "outputs": [
    {
     "name": "stdout",
     "output_type": "stream",
     "text": [
      "15\n"
     ]
    }
   ],
   "source": [
    "def max(x,y,z):\n",
    "    if x>y and x>z:\n",
    "        print(x)\n",
    "    elif y>x and y>z:\n",
    "        print (y)\n",
    "    else:\n",
    "        print(z)\n",
    "max(10,15,3)"
   ]
  },
  {
   "cell_type": "markdown",
   "metadata": {},
   "source": [
    "Question 2\n",
    "\n",
    "Write a function calculation() such that it can accept two variables and \n",
    "calculate the addition and subtraction of it. And also it must return both \n",
    "addition and subtraction in a single return call\n",
    "\n",
    "For example:\n",
    "\n",
    "calculation(40, 10) should produce 50, 30"
   ]
  },
  {
   "cell_type": "code",
   "execution_count": 33,
   "metadata": {},
   "outputs": [
    {
     "data": {
      "text/plain": [
       "(50, 30)"
      ]
     },
     "execution_count": 33,
     "metadata": {},
     "output_type": "execute_result"
    }
   ],
   "source": [
    "def calculation (x,y):\n",
    "    a=int(x)\n",
    "    b=int(y)\n",
    "    return a+b , a-b\n",
    "calculation (40,10)"
   ]
  },
  {
   "cell_type": "markdown",
   "metadata": {},
   "source": [
    "Question 3\n",
    "\n",
    "* Write a function that sums the elements of a list of integers.\n",
    "* Write a function that multiplies the elements of an integer list.\n",
    "* Use the two functions to sum the elements whose position is an even\n",
    "number (0,2,4…) and multiply the rest.\n",
    "Hint: Consider extracting two lists from a first list "
   ]
  },
  {
   "cell_type": "code",
   "execution_count": null,
   "metadata": {},
   "outputs": [],
   "source": [
    "list1=[]  \n",
    "n=int(input(\"Enter number of elements: \"))\n",
    "for i in range(1,n+1):\n",
    "    listelements=int(input(\"Enter the element: \".format(i+1)))\n",
    "    list1.append(listelements)\n",
    "def sum (list,len):\n",
    "    if (len == 0):\n",
    "        return 0\n",
    "    else:\n",
    "        return list[len - 1] + sum(list, len - 1)   \n",
    "sum_of_elements= sum(list1, len(list1))\n",
    "print(\"Sum of elements is :\", sum_of_elements)\n",
    "def multiply (list1):\n",
    "    s=1\n",
    "    for i in list1:\n",
    "        s= s*i \n",
    "    return (s)\n",
    "print(\"Result of elements multiplication is:\",multiply (list1))\n",
    "list2=[]  \n",
    "list3=[] \n",
    "for j,e in enumerate (list1):\n",
    "    if j%2==0:\n",
    "        list2.append(e)\n",
    "    else:\n",
    "        list3.append(e)\n",
    "print(\"Even list: \",list2)\n",
    "print(\"Odd list: \",list3) \n",
    "print(\"sum the elements whose position is an even:\", sum (list2,len(list2)))\n",
    "print(\"multiply the elements whose position is an odd:\", multiply(list3))"
   ]
  },
  {
   "cell_type": "markdown",
   "metadata": {},
   "source": [
    "Question 4\n",
    "\n",
    "Write a Python program that accepts a hyphen-separated sequence of words as input and prints the words in \n",
    "a hyphen-separated sequence after sorting them alphabetically.\n",
    "\n",
    "Sample Items : green-red-yellow-black-white\n",
    "Expected Result : black-green-red-white-yellow\n",
    "\n",
    "Hint : There's a sort function for lists"
   ]
  },
  {
   "cell_type": "code",
   "execution_count": null,
   "metadata": {},
   "outputs": [],
   "source": [
    "items= input(\"write the sequence\")\n",
    "result= items.split('-')\n",
    "result.sort()\n",
    "print('-'.join(result))"
   ]
  },
  {
   "cell_type": "markdown",
   "metadata": {},
   "source": [
    "Question 5 (Bonus)\n",
    "\n",
    "Write a function that calculates and prints the value according to the given formula: Q = Square root of [(2 * C * D)/H] \n",
    "Following are the fixed values of C and H: C is 50. H is 30. D is the variable whose values should be input to your \n",
    "program in a comma-separated sequence. Example Let us assume the following comma separated input sequence is given to\n",
    "the function: 100,150,180 The output of the program should be: 18,22,24 \n",
    "\n",
    "Hints: If the output received is in decimal form, it should be rounded off to its nearest value \n",
    "(for example, if the output received is 26.0, it should be printed as 26) In case of input data being supplied to the question,\n",
    "it should be assumed to be a console input. "
   ]
  },
  {
   "cell_type": "code",
   "execution_count": null,
   "metadata": {},
   "outputs": [],
   "source": [
    "import math\n",
    "values = input(\"write D: \").split(',')\n",
    "Q = lambda D:(round(math.sqrt(2 * 50 * int(D) / 30)) for D in values)\n",
    "print (Q(D))"
   ]
  },
  {
   "cell_type": "code",
   "execution_count": null,
   "metadata": {},
   "outputs": [],
   "source": []
  }
 ],
 "metadata": {
  "kernelspec": {
   "display_name": "Python 3",
   "language": "python",
   "name": "python3"
  },
  "language_info": {
   "codemirror_mode": {
    "name": "ipython",
    "version": 3
   },
   "file_extension": ".py",
   "mimetype": "text/x-python",
   "name": "python",
   "nbconvert_exporter": "python",
   "pygments_lexer": "ipython3",
   "version": "3.8.3"
  }
 },
 "nbformat": 4,
 "nbformat_minor": 4
}
